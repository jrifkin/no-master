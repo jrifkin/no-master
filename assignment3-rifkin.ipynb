{
 "cells": [
  {
   "cell_type": "code",
   "execution_count": 1,
   "metadata": {
    "collapsed": true
   },
   "outputs": [],
   "source": [
    "# imports and setup\n",
    "import pandas as pd\n",
    "import numpy as np\n",
    "import json\n",
    "import os\n",
    "from HTMLParser import HTMLParser\n",
    "pd.set_option('display.max_colwidth', -1)"
   ]
  },
  {
   "cell_type": "code",
   "execution_count": 2,
   "metadata": {
    "collapsed": true
   },
   "outputs": [],
   "source": [
    "# part 1\n",
    "# open specific json file\n",
    "with open('data/100506.json') as f:\n",
    "    dat_100506 = json.load(f)"
   ]
  },
  {
   "cell_type": "code",
   "execution_count": 3,
   "metadata": {
    "collapsed": false
   },
   "outputs": [],
   "source": [
    "# create three objects to house the review ratings,\n",
    "# the full text review, and the list of rating categories\n",
    "review_ratings=[]\n",
    "review_text=[]\n",
    "ratings_cats = []\n",
    "\n",
    "#iterate through the json file\n",
    "for review in dat_100506['Reviews']:\n",
    "    # save the full review text into a dictionary\n",
    "    temp = {}\n",
    "    temp['Author']=review['Author']\n",
    "    temp['Date'] = review['Date']\n",
    "    temp['Review']=review['Content']\n",
    "    review_text.append(temp)\n",
    "    \n",
    "    #build a dictionary of the review ratings features\n",
    "    temp_dict={}\n",
    "    temp_dict['Author']=review['Author']\n",
    "    temp_dict['Date']=review['Date']\n",
    "    \n",
    "    # unpack the rating review tags by iterating through the \n",
    "    # dictionary of the ratings\n",
    "    for k in review['Ratings']:\n",
    "        #test for membership in the unique rating categories\n",
    "        if not(k in ratings_cats):\n",
    "            ratings_cats.append(k)\n",
    "\n",
    "            #append the category to the rating dictionary\n",
    "        temp_dict[k]=review['Ratings'][k]\n",
    "    #append the individual rating dictionary to the list\n",
    "    review_ratings.append(temp_dict)"
   ]
  },
  {
   "cell_type": "code",
   "execution_count": 4,
   "metadata": {
    "collapsed": false,
    "scrolled": false
   },
   "outputs": [],
   "source": [
    "#load the rating category data into a dataframe\n",
    "df_100506 = pd.DataFrame(review_ratings)\n",
    "#convert the rating category data to numeric\n",
    "df_100506[ratings_cats]=df_100506[ratings_cats].apply(pd.to_numeric)\n",
    "\n",
    "#load the full text reviews into a different dataframe object\n",
    "df_100506_review_text = pd.DataFrame(review_text)\n",
    "# encode the string to ensure that I/O functions properly\n",
    "df_100506_review_text.Review = df_100506_review_text\\\n",
    "    .Review.str.encode('utf-8')"
   ]
  },
  {
   "cell_type": "code",
   "execution_count": 5,
   "metadata": {
    "collapsed": false
   },
   "outputs": [
    {
     "data": {
      "text/html": [
       "<div>\n",
       "<table border=\"1\" class=\"dataframe\">\n",
       "  <thead>\n",
       "    <tr style=\"text-align: right;\">\n",
       "      <th></th>\n",
       "      <th></th>\n",
       "      <th>Business service (e.g., internet access)</th>\n",
       "      <th>Check in / front desk</th>\n",
       "      <th>Cleanliness</th>\n",
       "      <th>Location</th>\n",
       "      <th>Overall</th>\n",
       "      <th>Rooms</th>\n",
       "      <th>Service</th>\n",
       "      <th>Sleep Quality</th>\n",
       "      <th>Value</th>\n",
       "    </tr>\n",
       "  </thead>\n",
       "  <tbody>\n",
       "    <tr>\n",
       "      <th rowspan=\"3\" valign=\"top\">0</th>\n",
       "      <th>mean</th>\n",
       "      <td>1.0</td>\n",
       "      <td>3.0</td>\n",
       "      <td>2.0</td>\n",
       "      <td>4.0</td>\n",
       "      <td>1.666667</td>\n",
       "      <td>1.545455</td>\n",
       "      <td>2.3</td>\n",
       "      <td>2.176471</td>\n",
       "      <td>2.0</td>\n",
       "    </tr>\n",
       "    <tr>\n",
       "      <th>min</th>\n",
       "      <td>1.0</td>\n",
       "      <td>1.0</td>\n",
       "      <td>1.0</td>\n",
       "      <td>1.0</td>\n",
       "      <td>1.000000</td>\n",
       "      <td>1.000000</td>\n",
       "      <td>1.0</td>\n",
       "      <td>1.000000</td>\n",
       "      <td>1.0</td>\n",
       "    </tr>\n",
       "    <tr>\n",
       "      <th>max</th>\n",
       "      <td>1.0</td>\n",
       "      <td>5.0</td>\n",
       "      <td>5.0</td>\n",
       "      <td>5.0</td>\n",
       "      <td>4.000000</td>\n",
       "      <td>5.000000</td>\n",
       "      <td>5.0</td>\n",
       "      <td>5.000000</td>\n",
       "      <td>5.0</td>\n",
       "    </tr>\n",
       "  </tbody>\n",
       "</table>\n",
       "</div>"
      ],
      "text/plain": [
       "        Business service (e.g., internet access)  Check in / front desk  \\\n",
       "0 mean  1.0                                       3.0                     \n",
       "  min   1.0                                       1.0                     \n",
       "  max   1.0                                       5.0                     \n",
       "\n",
       "        Cleanliness  Location   Overall     Rooms  Service  Sleep Quality  \\\n",
       "0 mean  2.0          4.0       1.666667  1.545455  2.3      2.176471        \n",
       "  min   1.0          1.0       1.000000  1.000000  1.0      1.000000        \n",
       "  max   5.0          5.0       4.000000  5.000000  5.0      5.000000        \n",
       "\n",
       "        Value  \n",
       "0 mean  2.0    \n",
       "  min   1.0    \n",
       "  max   5.0    "
      ]
     },
     "execution_count": 5,
     "metadata": {},
     "output_type": "execute_result"
    }
   ],
   "source": [
    "#calculate the requested summary statistics\n",
    "df_100506.groupby(lambda idx:0).agg(['mean','min','max']).stack()"
   ]
  },
  {
   "cell_type": "code",
   "execution_count": 6,
   "metadata": {
    "collapsed": false
   },
   "outputs": [],
   "source": [
    "#pickle the results and dump reviews to txt\n",
    "df_100506.to_pickle('ratings_100506.pkl')\n",
    "df_100506_review_text.to_csv('reviews_full_text_100506.txt',\\\n",
    "                             header=None,index=None,\\\n",
    "                             sep='\\t', mode='a')"
   ]
  },
  {
   "cell_type": "code",
   "execution_count": 7,
   "metadata": {
    "collapsed": false
   },
   "outputs": [],
   "source": [
    "#part II\n",
    "# load hotel info from all json files into data store\n",
    "hotel_dat = {}\n",
    "# walk across files in directory\n",
    "for fn in os.listdir('data/'):\n",
    "    # open json\n",
    "    with open(os.path.join('data',fn)) as f:\n",
    "        # load json data\n",
    "        d = json.load(f)\n",
    "        # store hotel info with appropriate filename\n",
    "        hotel_dat[fn]=d['HotelInfo']\n"
   ]
  },
  {
   "cell_type": "code",
   "execution_count": 8,
   "metadata": {
    "collapsed": false
   },
   "outputs": [],
   "source": [
    "#initiate a class extending HTMLParser, overwriting handle_data\n",
    "class MLStripper(HTMLParser):\n",
    "    #initiate the class and blank list fed\n",
    "    def __init__(self):\n",
    "        self.reset()\n",
    "        self.fed = []\n",
    "\n",
    "    # overwrite how the parser handles data\n",
    "    # pass html chunks to fed list\n",
    "    def handle_data(self, d):\n",
    "        self.fed.append(d)\n",
    "\n",
    "    # a function that returns all of the chunks contained \n",
    "    # in list into a single str\n",
    "    def get_data(self):\n",
    "        return ''.join(self.fed)\n",
    "\n",
    "# define a function that takes in HTML,\n",
    "# strips the tags, and returns a string\n",
    "# using the MLStripper class\n",
    "def strip_tags(html):\n",
    "    # initiate the parser\n",
    "    s = MLStripper()\n",
    "    # feed the parser data\n",
    "    s.feed(html)\n",
    "    return s.get_data()\n",
    "\n",
    "# Only field with HTML is Address, alter that field\n",
    "for key in hotel_dat:\n",
    "    for k in hotel_dat[key]:\n",
    "        if k == 'Address':\n",
    "            hotel_dat[key][k] = strip_tags(hotel_dat[key][k])"
   ]
  },
  {
   "cell_type": "markdown",
   "metadata": {},
   "source": [
    "### df_hotel_info\n",
    "`df_hotel_info` contains 6 columns\n",
    "\n",
    "* Address: the physical street address of the hotel\n",
    "* HotelID: a primary hotel identifier\n",
    "* HotelURL: the URL associated with the json file\n",
    "* ImgURL: location of image associated with tripadvisor\n",
    "* Name: hotel name\n",
    "* price: estimated price range"
   ]
  },
  {
   "cell_type": "code",
   "execution_count": 11,
   "metadata": {
    "collapsed": false
   },
   "outputs": [
    {
     "name": "stdout",
     "output_type": "stream",
     "text": [
      "                                                         Address  HotelID  \\\n",
      "100506.json     315 Seneca St., Seattle, WA 98101                 100506    \n",
      "1217974.json  NaN                                                 1217974   \n",
      "150849.json   NaN                                                 150849    \n",
      "214680.json   NaN                                                 214680    \n",
      "240124.json     9100 North Kendall Drive, Miami, FL 33176         240124    \n",
      "2515575.json    8757 Rio San Diego Drive, San Diego, CA 92108     2515575   \n",
      "287670.json   c/ Argenteria 37, 08003 Barcelona, Spain            287670    \n",
      "550994.json   Campomanes 7, 28013 Madrid, Spain                   550994    \n",
      "655424.json   NaN                                                 655424    \n",
      "677703.json   NaN                                                 677703    \n",
      "\n",
      "                                                                                                                                      HotelURL  \\\n",
      "100506.json   /ShowUserReviews-g60878-d100506-Reviews-Hotel_Seattle-Seattle_Washington.html                                                      \n",
      "1217974.json  http://www.tripadvisor.com/ShowUserReviews-g60878-d1217974-r22522839-Deca_Hotel-Seattle_Washington.html                            \n",
      "150849.json   http://www.tripadvisor.com/ShowUserReviews-g147293-d150849-r23387184-Riu_Bambu-Punta_Cana_Dominican_Republic.html                  \n",
      "214680.json   http://www.tripadvisor.com/ShowUserReviews-g60982-d214680-r23326648-Park_Shore_Waikiki-Honolulu_Oahu_Hawaii.html                   \n",
      "240124.json   /ShowUserReviews-g34438-d240124-Reviews-Kendall_Hotel_and_Suites-Miami_Florida.html                                                \n",
      "2515575.json  /ShowUserReviews-g60750-d80232-Reviews-San_Diego_Marriott_Mission_Valley-San_Diego_California.html                                 \n",
      "287670.json   /ShowUserReviews-g187497-d287670-Reviews-Hotel_Banys_Orientals-Barcelona_Catalonia.html                                            \n",
      "550994.json   /ShowUserReviews-g187514-d550994-Reviews-Meninas_Hotel-Madrid.html                                                                 \n",
      "655424.json   http://www.tripadvisor.com/ShowUserReviews-g297697-d655424-r7674138-Balisandy_Cottages-Kuta_Bali.html                              \n",
      "677703.json   http://www.tripadvisor.com/ShowUserReviews-g150800-d677703-r20087386-Plaza_Madrid-Mexico_City_Central_Mexico_and_Gulf_Coast.html   \n",
      "\n",
      "                                                                                                                       ImgURL  \\\n",
      "100506.json   http://media-cdn.tripadvisor.com/media/ProviderThumbnails/dirs/7d/22/7d22f3e6c0682df4f389acd30fe4e3d45large.jpg   \n",
      "1217974.json  NaN                                                                                                               \n",
      "150849.json   NaN                                                                                                               \n",
      "214680.json   NaN                                                                                                               \n",
      "240124.json   http://media-cdn.tripadvisor.com/media/ProviderThumbnails/dirs/41/26/4126535dd6c83348b47318c03433a1d66large.jpg   \n",
      "2515575.json  http://media-cdn.tripadvisor.com/media/ProviderThumbnails/dirs/af/31/af315f083868045b55af52277e8edf711large.jpg   \n",
      "287670.json   http://media-cdn.tripadvisor.com/media/photo-s/01/05/0a/44/barcellona.jpg                                         \n",
      "550994.json   http://media-cdn.tripadvisor.com/media/photo-s/02/46/1c/33/twin-room-habitacion.jpg                               \n",
      "655424.json   NaN                                                                                                               \n",
      "677703.json   NaN                                                                                                               \n",
      "\n",
      "                                           Name         Price  \n",
      "100506.json   Hotel Seattle                      $96 - $118*   \n",
      "1217974.json  NaN                                Unkonwn       \n",
      "150849.json   NaN                                $353          \n",
      "214680.json   NaN                                $156          \n",
      "240124.json   Kendall Hotel and Suites           $124 - $181*  \n",
      "2515575.json  San Diego Marriott Mission Valley  $158 - $248*  \n",
      "287670.json   Hotel Banys Orientals              $115 - $131*  \n",
      "550994.json   Meninas Hotel                      $111 and up*  \n",
      "655424.json   NaN                                Unkonwn       \n",
      "677703.json   NaN                                Unkonwn       \n"
     ]
    }
   ],
   "source": [
    "#store hotel_info in data frame and present overview\n",
    "df_hotel_info = pd.DataFrame(hotel_dat).T\n",
    "print df_hotel_info"
   ]
  },
  {
   "cell_type": "code",
   "execution_count": 10,
   "metadata": {
    "collapsed": true
   },
   "outputs": [],
   "source": [
    "# pickle the hotel file\n",
    "df_hotel_info.to_pickle('df_hotel_info.pkl')"
   ]
  }
 ],
 "metadata": {
  "kernelspec": {
   "display_name": "Python 2",
   "language": "python",
   "name": "python2"
  },
  "language_info": {
   "codemirror_mode": {
    "name": "ipython",
    "version": 2
   },
   "file_extension": ".py",
   "mimetype": "text/x-python",
   "name": "python",
   "nbconvert_exporter": "python",
   "pygments_lexer": "ipython2",
   "version": "2.7.10"
  }
 },
 "nbformat": 4,
 "nbformat_minor": 0
}
