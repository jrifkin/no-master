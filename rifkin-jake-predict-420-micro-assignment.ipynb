{
 "cells": [
  {
   "cell_type": "code",
   "execution_count": 2,
   "metadata": {
    "collapsed": false
   },
   "outputs": [],
   "source": [
    "### Micro assignment\n",
    "def read_col_names(path):\n",
    "    \"\"\"A function that takes in a file path, reads the file and returns a list of \n",
    "    the items in the file.Assumes that files are constructed with a single line of \n",
    "    data as the first line that contains the space delimited list.\"\"\"\n",
    "    # open the file\n",
    "    f = open(path)\n",
    "    # get the list object from the file. Assumes only one \n",
    "    # list in the first row delimited by spaces\n",
    "    col_names = f.read().split()\n",
    "    # close the file\n",
    "    f.close()\n",
    "    #return the list\n",
    "    return col_names\n",
    "\n",
    "#get the column names from the config text files\n",
    "airport_col_names = read_col_names(\"config/airport-col-names.txt\")\n",
    "airline_col_names = read_col_names(\"config/airline-col-names.txt\")\n",
    "routes_col_names = read_col_names(\"config/route-col-names.txt\")"
   ]
  },
  {
   "cell_type": "markdown",
   "metadata": {},
   "source": [
    "Using Entought Canopy version 1.6.2 (64 bit) on OS X Yosemite version 10.10.5"
   ]
  }
 ],
 "metadata": {
  "anaconda-cloud": {},
  "kernelspec": {
   "display_name": "Python 2",
   "language": "python",
   "name": "python2"
  },
  "language_info": {
   "codemirror_mode": {
    "name": "ipython",
    "version": 2
   },
   "file_extension": ".py",
   "mimetype": "text/x-python",
   "name": "python",
   "nbconvert_exporter": "python",
   "pygments_lexer": "ipython2",
   "version": "2.7.10"
  }
 },
 "nbformat": 4,
 "nbformat_minor": 0
}
